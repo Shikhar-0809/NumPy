{
  "nbformat": 4,
  "nbformat_minor": 0,
  "metadata": {
    "colab": {
      "provenance": [],
      "authorship_tag": "ABX9TyO+DbqvwGc1q5X3zUQy6Z2b",
      "include_colab_link": true
    },
    "kernelspec": {
      "name": "python3",
      "display_name": "Python 3"
    },
    "language_info": {
      "name": "python"
    }
  },
  "cells": [
    {
      "cell_type": "markdown",
      "metadata": {
        "id": "view-in-github",
        "colab_type": "text"
      },
      "source": [
        "<a href=\"https://colab.research.google.com/github/Shikhar-0809/NumPy/blob/main/NumPy.ipynb\" target=\"_parent\"><img src=\"https://colab.research.google.com/assets/colab-badge.svg\" alt=\"Open In Colab\"/></a>"
      ]
    },
    {
      "cell_type": "markdown",
      "source": [
        "Q.1 Write a program to create a NumPy 1D-array with 5 elements and perform basic\n",
        "operations like:\n",
        "a) Addition of 2 in all the element\n",
        "b) Multiply 3 with all the elements\n",
        "c) Divide every element by 2"
      ],
      "metadata": {
        "id": "nR3Q0yn9f1eR"
      }
    },
    {
      "cell_type": "code",
      "execution_count": 3,
      "metadata": {
        "id": "fap5bEBKXTP1",
        "colab": {
          "base_uri": "https://localhost:8080/"
        },
        "outputId": "1eba1595-4590-4935-85f6-39e84ad7143e"
      },
      "outputs": [
        {
          "output_type": "stream",
          "name": "stdout",
          "text": [
            "Array after adding 2: [12 22 32 42 52]\n",
            "Array after multiplying by 3 :  [ 30  60  90 120 150]\n",
            "Array after dividing by 2 :  [ 5. 10. 15. 20. 25.]\n"
          ]
        }
      ],
      "source": [
        "import numpy as np\n",
        "arr = np.array([10,20,30,40,50])\n",
        "addArr = arr + 2\n",
        "print(\"Array after adding 2:\",addArr)\n",
        "\n",
        "multiplyArr = arr * 3\n",
        "print(\"Array after multiplying by 3 : \",multiplyArr)\n",
        "\n",
        "divideArr = arr / 2\n",
        "print(\"Array after dividing by 2 : \",divideArr)\n"
      ]
    },
    {
      "cell_type": "markdown",
      "source": [
        "Reverse the NumPy array: arr = np.array([1, 2, 3, 6, 4, 5])\n"
      ],
      "metadata": {
        "id": "du7fwCk2fz6Y"
      }
    },
    {
      "cell_type": "code",
      "source": [
        "arr = np.array([1,2,3,4,5])\n",
        "revArray = arr[::-1]\n",
        "print(\"Reversed Array : \",revArray)"
      ],
      "metadata": {
        "colab": {
          "base_uri": "https://localhost:8080/"
        },
        "id": "c8I9XUWVZZW1",
        "outputId": "00dd5c1d-a74d-48f7-bfab-13ff27c9ff13"
      },
      "execution_count": 4,
      "outputs": [
        {
          "output_type": "stream",
          "name": "stdout",
          "text": [
            "Reversed Array :  [5 4 3 2 1]\n"
          ]
        }
      ]
    },
    {
      "cell_type": "markdown",
      "source": [
        "Find the most frequent value and their indice(s) in the following arrays:\n",
        "i. x = np.array([1,2,3,4,5,1,2,1,1,1])\n",
        "ii. y = np.array([1, 1, 1, 2, 3, 4, 2, 4, 3, 3, ])"
      ],
      "metadata": {
        "id": "p6dHTzjOgCEP"
      }
    },
    {
      "cell_type": "code",
      "source": [
        "def mostFreq(arr):\n",
        "  freqDict = {}\n",
        "\n",
        "  for num in arr:\n",
        "    if num in freqDict:\n",
        "      freqDict[num] += 1\n",
        "\n",
        "    else:\n",
        "      freqDict[num] = 1\n",
        "\n",
        "\n",
        "x = np.array([1,2,3,4,5,1,2,1,1,1])\n",
        "y = np.array([1, 1, 1, 2, 3, 4, 2, 4, 3, 3, ])\n"
      ],
      "metadata": {
        "id": "km4h3rd6Z7ZH"
      },
      "execution_count": null,
      "outputs": []
    },
    {
      "cell_type": "markdown",
      "source": [
        "For the given 2-D array arr=np.array([10, 20, 30], [40, 50, 60], [70, 80, 90]), access\n",
        "elements using row and column indices as follows:\n",
        "a) Access 1st row, 2nd column\n",
        "b) Access 3rd row, 1st column **bold text**\n"
      ],
      "metadata": {
        "id": "ecOWQrg3gFtY"
      }
    },
    {
      "cell_type": "code",
      "source": [
        "import numpy as np\n",
        "\n",
        "arr = np.array([[10, 20, 30],\n",
        "               [40, 50, 60],\n",
        "               [70, 80, 90]])\n",
        "\n",
        "x = arr[0,1]\n",
        "y = arr[2,0]\n",
        "\n",
        "print(\"Element at first row , second column : \",x)\n",
        "print(\"Element at third row , first column : \",y)"
      ],
      "metadata": {
        "colab": {
          "base_uri": "https://localhost:8080/"
        },
        "id": "-1uXo89jaZ9V",
        "outputId": "0d593af9-bd40-41b0-9766-0cde60b417d9"
      },
      "execution_count": 9,
      "outputs": [
        {
          "output_type": "stream",
          "name": "stdout",
          "text": [
            "Element at first row , second column :  20\n",
            "Element at third row , first column :  70\n"
          ]
        }
      ]
    },
    {
      "cell_type": "markdown",
      "source": [
        "Write program to create an 1-D NumPy array named <<Your Name>> with evenly\n",
        "spaced 25 numbers from 10 to 100 using linspace(). Print the dimensions of the array,\n",
        "shape, total elements, the data type of each element and total number of bytes consumed\n",
        "by the array. Find the transpose of this array using reshape() attribute. Can we do the same\n",
        "with T attribute?"
      ],
      "metadata": {
        "id": "x9mxSqSfgQcP"
      }
    },
    {
      "cell_type": "code",
      "source": [
        "import numpy as np\n",
        "\n",
        "Shikhar = np.linspace(10,100,25)\n",
        "print(\"Array : \",Shikhar)\n",
        "print(\"Dimensions of Array : \",Shikhar.ndim)\n",
        "print(\"Shape : \",Shikhar.shape)\n",
        "print(\"Total Elements : \",Shikhar.size)\n",
        "print(\"Data Type of Each Element : \",Shikhar.dtype)\n",
        "print(\"Total Bytes Consumed : \",Shikhar.nbytes)\n",
        "\n",
        "transposeArray = Shikhar.reshape(25,1)\n",
        "print(\"Transpose Array : \",transposeArray)\n",
        "\n",
        "TArray = Shikhar.T\n",
        "print(\"Transpose Array(using T attribute): \",TArray)\n",
        "\n",
        "print(\"Is T attribute same as reshape()?\",np.array_equal(transposeArray,TArray))"
      ],
      "metadata": {
        "colab": {
          "base_uri": "https://localhost:8080/"
        },
        "id": "DNVz6VbIdM7s",
        "outputId": "f0f11075-d464-4093-e8a5-07a9b2fcb799"
      },
      "execution_count": 11,
      "outputs": [
        {
          "output_type": "stream",
          "name": "stdout",
          "text": [
            "Array :  [ 10.    13.75  17.5   21.25  25.    28.75  32.5   36.25  40.    43.75\n",
            "  47.5   51.25  55.    58.75  62.5   66.25  70.    73.75  77.5   81.25\n",
            "  85.    88.75  92.5   96.25 100.  ]\n",
            "Dimensions of Array :  1\n",
            "Shape :  (25,)\n",
            "Total Elements :  25\n",
            "Data Type of Each Element :  float64\n",
            "Total Bytes Consumed :  200\n",
            "Transpose Array :  [[ 10.  ]\n",
            " [ 13.75]\n",
            " [ 17.5 ]\n",
            " [ 21.25]\n",
            " [ 25.  ]\n",
            " [ 28.75]\n",
            " [ 32.5 ]\n",
            " [ 36.25]\n",
            " [ 40.  ]\n",
            " [ 43.75]\n",
            " [ 47.5 ]\n",
            " [ 51.25]\n",
            " [ 55.  ]\n",
            " [ 58.75]\n",
            " [ 62.5 ]\n",
            " [ 66.25]\n",
            " [ 70.  ]\n",
            " [ 73.75]\n",
            " [ 77.5 ]\n",
            " [ 81.25]\n",
            " [ 85.  ]\n",
            " [ 88.75]\n",
            " [ 92.5 ]\n",
            " [ 96.25]\n",
            " [100.  ]]\n",
            "Transpose Array(using T attribute):  [ 10.    13.75  17.5   21.25  25.    28.75  32.5   36.25  40.    43.75\n",
            "  47.5   51.25  55.    58.75  62.5   66.25  70.    73.75  77.5   81.25\n",
            "  85.    88.75  92.5   96.25 100.  ]\n",
            "Is T attribute same as reshape()? False\n"
          ]
        }
      ]
    },
    {
      "cell_type": "markdown",
      "source": [
        "\n",
        "\n",
        "Create a 2-D Array of three rows and four columns, named ucs420_<your_name>>\n",
        "with following values – 10, 20, 30, 40, 50, 60, 70, 80, 90, 15, 20, 35. Compute the mean,\n",
        "median, max, min, unique elements. Reshape the array to four rows and three columns and\n",
        "name it as reshaped_ ucs420_<your_name>>. Resize the array to two rows and three\n",
        "columns and name it as resized_ ucs420_<your_name>>."
      ],
      "metadata": {
        "id": "cg7iZ1z6fw5h"
      }
    },
    {
      "cell_type": "code",
      "source": [
        "import numpy as np\n",
        "\n",
        "ucs420Shikhar = np.array([[10,20,30],\n",
        "                         [40,50,60],\n",
        "                         [70,80,90],\n",
        "                         [15,20,35]])\n",
        "\n",
        "meanVal = np.mean(ucs420Shikhar)\n",
        "medianVal = np.median(ucs420Shikhar)\n",
        "maxVal = np.max(ucs420Shikhar)\n",
        "minVal = np.min(ucs420Shikhar)\n",
        "uniqueElements = np.unique(ucs420Shikhar)\n",
        "\n",
        "print(\"Mean : \",meanVal)\n",
        "print(\"Median : \",medianVal)\n",
        "print(\"Max : \",maxVal)\n",
        "print(\"Min : \",minVal)\n",
        "print(\"Unique : \",uniqueElements)\n",
        "\n",
        "reshapedArr = ucs420Shikhar.reshape(4,3)\n",
        "resizeArr = ucs420Shikhar.copy()\n",
        "resizeArr.resize((2,3))\n",
        "\n",
        "\n",
        "print(\"Reshaped Array : \",reshapedArr)\n",
        "print(\"Resized Array : \",resizeArr)"
      ],
      "metadata": {
        "colab": {
          "base_uri": "https://localhost:8080/"
        },
        "id": "0aZjtWdsgYdA",
        "outputId": "5283dbbe-d259-4c98-f74f-69757a41e4ad"
      },
      "execution_count": 16,
      "outputs": [
        {
          "output_type": "stream",
          "name": "stdout",
          "text": [
            "Mean :  43.333333333333336\n",
            "Median :  37.5\n",
            "Max :  90\n",
            "Min :  10\n",
            "Unique :  [10 15 20 30 35 40 50 60 70 80 90]\n",
            "Reshaped Array :  [[10 20 30]\n",
            " [40 50 60]\n",
            " [70 80 90]\n",
            " [15 20 35]]\n",
            "Resized Array :  [[10 20 30]\n",
            " [40 50 60]]\n"
          ]
        }
      ]
    }
  ]
}